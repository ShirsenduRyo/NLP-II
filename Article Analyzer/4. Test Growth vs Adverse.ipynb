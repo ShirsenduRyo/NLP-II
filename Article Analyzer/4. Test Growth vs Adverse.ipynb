{
 "cells": [
  {
   "cell_type": "code",
   "execution_count": 1,
   "id": "e2199832",
   "metadata": {},
   "outputs": [],
   "source": [
    "class RobertaArticleClassifier:\n",
    "    def __init__(self):\n",
    "        self.model_name = 'roberta-base'\n",
    "        self.model = RobertaForSequenceClassification.from_pretrained(self.model_name)\n",
    "        self.tokenizer = RobertaTokenizer.from_pretrained(self.model_name)\n",
    "        self.device = torch.device('cuda' if torch.cuda.is_available() else 'cpu')\n",
    "        self.labels = ['adverse', 'growth']\n",
    "        self.model.to(self.device)\n",
    "\n",
    "    def classify_theme(self, article):\n",
    "        inputs = self.tokenizer.encode_plus(article, return_tensors='pt', truncation=True, padding=True)\n",
    "        inputs = inputs.to(self.device)\n",
    "\n",
    "        with torch.no_grad():\n",
    "            outputs = self.model(**inputs)\n",
    "            logits = outputs.logits\n",
    "            probabilities = torch.softmax(logits, dim=1)\n",
    "            predicted_label_id = torch.argmax(logits, dim=1).item()\n",
    "            predicted_label = self.labels[predicted_label_id]\n",
    "            growth_probability = probabilities[0][1].item()\n",
    "            adverse_probability = probabilities[0][0].item()\n",
    "\n",
    "        print(\"Growth Probability:\", growth_probability)\n",
    "        print(\"adverse Probability:\", adverse_probability)\n",
    "\n",
    "        return predicted_label"
   ]
  },
  {
   "cell_type": "code",
   "execution_count": null,
   "id": "7155d7ae",
   "metadata": {},
   "outputs": [],
   "source": []
  }
 ],
 "metadata": {
  "kernelspec": {
   "display_name": "torch",
   "language": "python",
   "name": "pytorch"
  },
  "language_info": {
   "codemirror_mode": {
    "name": "ipython",
    "version": 3
   },
   "file_extension": ".py",
   "mimetype": "text/x-python",
   "name": "python",
   "nbconvert_exporter": "python",
   "pygments_lexer": "ipython3",
   "version": "3.11.3"
  }
 },
 "nbformat": 4,
 "nbformat_minor": 5
}
