{
 "cells": [
  {
   "cell_type": "markdown",
   "id": "5f5e370e",
   "metadata": {},
   "source": [
    "# 1. Import Libraries"
   ]
  },
  {
   "cell_type": "code",
   "execution_count": 1,
   "id": "61cdf206",
   "metadata": {},
   "outputs": [],
   "source": [
    "import tensorflow as tf\n",
    "from transformers import T5Tokenizer, T5Config, TFT5ForConditionalGeneration"
   ]
  },
  {
   "cell_type": "code",
   "execution_count": 3,
   "id": "a74aa826",
   "metadata": {},
   "outputs": [],
   "source": [
    "from ArticleAdvizer import ArticleAdvizer"
   ]
  },
  {
   "cell_type": "code",
   "execution_count": 4,
   "id": "c0d32ae3",
   "metadata": {},
   "outputs": [],
   "source": [
    "article = '''Mumbai: Analysts tracking Bajaj Finance reiterated their bullish outlook after the Pune-based non-bank lender 's \\\n",
    "first-quarter business growth update took the Street by surprise, prompting brokerage houses to upgrade their recommendations\\\n",
    "and raise their respective price targets. Shares of Bajaj Finance rose as high as 8% to post their biggest single-day gain in \\\n",
    "nearly one year. The stock surged to near two-year high on Tuesday to close at ₹7,868 apiece on the NSE, up 7.3% from the \\\n",
    "previous close, extending its run of gains to six consecutive sessions. CLSA raised EPS estimates by 5-6% and upgraded the \\\n",
    "stock to buy. The global brokerage expects the stock to rise another 15% from the current levels.\"Bajaj Finance reported \\\n",
    "very strong pre-quarter numbers for Q1FY24,\" said CLSA in a client note. \"While expected 6-7% QoQ AUM growth, the company \\\n",
    "delivered 9%. New customer acquisition healthy and volume growth in disbursements a strong 34% YoY.\"Morgan Stanley raised \\\n",
    "its price target which has the potential to deliver another 18% returns from the current levels.\"AUM growth of 9.2% QoQ, \\\n",
    "32% YoY with value & vol growth & strong customer acquisition should dispel loan growth debate,\" Morgan Stanley told clients \\\n",
    "in a note. \"Bajaj Finance has a strong credit track record; RoA is at a historical high. See this large liquid stock re-rating \\\n",
    "to 30x F25e P/E.\"Bajaj Finance's new loans booked during Q1 grew by 34% to 9.94 million as compared to 7.42 million in the \\\n",
    "corresponding quarter of the previous year. Assets under management (AUM) grew 32% YoY - the highest-ever quarterly increase - \\\n",
    "to ₹2.7 lakh crore.The customer franchise stood at 72.98 million at the end of June 2023 as compared to 60.30 million as of \\\n",
    "June 2022 after seeing the highest-ever quarterly increase.BofA Securities also raised its price target. It said the first \\\n",
    "quarter update should also reinforce confidence in its long-term growth guidance of 25-27%. \"The company is on track to beat \\\n",
    "the upper end of its 11-12 million customer acquisition guidance comfortably,\" the firm said.'''"
   ]
  },
  {
   "cell_type": "code",
   "execution_count": 5,
   "id": "e67dbe87",
   "metadata": {},
   "outputs": [
    {
     "data": {
      "text/plain": [
       "'Mumbai: Analysts tracking Bajaj Finance reiterated their bullish outlook after the Pune-based non-bank lender \\'s first-quarter business growth update took the Street by surprise, prompting brokerage houses to upgrade their recommendationsand raise their respective price targets. Shares of Bajaj Finance rose as high as 8% to post their biggest single-day gain in nearly one year. The stock surged to near two-year high on Tuesday to close at ₹7,868 apiece on the NSE, up 7.3% from the previous close, extending its run of gains to six consecutive sessions. CLSA raised EPS estimates by 5-6% and upgraded the stock to buy. The global brokerage expects the stock to rise another 15% from the current levels.\"Bajaj Finance reported very strong pre-quarter numbers for Q1FY24,\" said CLSA in a client note. \"While expected 6-7% QoQ AUM growth, the company delivered 9%. New customer acquisition healthy and volume growth in disbursements a strong 34% YoY.\"Morgan Stanley raised its price target which has the potential to deliver another 18% returns from the current levels.\"AUM growth of 9.2% QoQ, 32% YoY with value & vol growth & strong customer acquisition should dispel loan growth debate,\" Morgan Stanley told clients in a note. \"Bajaj Finance has a strong credit track record; RoA is at a historical high. See this large liquid stock re-rating to 30x F25e P/E.\"Bajaj Finance\\'s new loans booked during Q1 grew by 34% to 9.94 million as compared to 7.42 million in the corresponding quarter of the previous year. Assets under management (AUM) grew 32% YoY - the highest-ever quarterly increase - to ₹2.7 lakh crore.The customer franchise stood at 72.98 million at the end of June 2023 as compared to 60.30 million as of June 2022 after seeing the highest-ever quarterly increase.BofA Securities also raised its price target. It said the first quarter update should also reinforce confidence in its long-term growth guidance of 25-27%. \"The company is on track to beat the upper end of its 11-12 million customer acquisition guidance comfortably,\" the firm said.'"
      ]
     },
     "execution_count": 5,
     "metadata": {},
     "output_type": "execute_result"
    }
   ],
   "source": [
    "article"
   ]
  },
  {
   "cell_type": "code",
   "execution_count": 6,
   "id": "02ef62e2",
   "metadata": {},
   "outputs": [
    {
     "data": {
      "application/vnd.jupyter.widget-view+json": {
       "model_id": "e13e9f974ed740b6a7db876d8b99a79a",
       "version_major": 2,
       "version_minor": 0
      },
      "text/plain": [
       "Downloading (…)ve/main/spiece.model:   0%|          | 0.00/792k [00:00<?, ?B/s]"
      ]
     },
     "metadata": {},
     "output_type": "display_data"
    },
    {
     "name": "stderr",
     "output_type": "stream",
     "text": [
      "D:\\Anac\\envs\\tf1\\lib\\site-packages\\huggingface_hub\\file_download.py:133: UserWarning: `huggingface_hub` cache-system uses symlinks by default to efficiently store duplicated files but your machine does not support them in C:\\Users\\sport\\.cache\\huggingface\\hub. Caching files will still work but in a degraded version that might require more space on your disk. This warning can be disabled by setting the `HF_HUB_DISABLE_SYMLINKS_WARNING` environment variable. For more details, see https://huggingface.co/docs/huggingface_hub/how-to-cache#limitations.\n",
      "To support symlinks on Windows, you either need to activate Developer Mode or to run Python as an administrator. In order to see activate developer mode, see this article: https://docs.microsoft.com/en-us/windows/apps/get-started/enable-your-device-for-development\n",
      "  warnings.warn(message)\n"
     ]
    },
    {
     "data": {
      "application/vnd.jupyter.widget-view+json": {
       "model_id": "17e7caf0ce3a48bb83a3e4b4d1891feb",
       "version_major": 2,
       "version_minor": 0
      },
      "text/plain": [
       "Downloading (…)lve/main/config.json:   0%|          | 0.00/1.21k [00:00<?, ?B/s]"
      ]
     },
     "metadata": {},
     "output_type": "display_data"
    },
    {
     "name": "stderr",
     "output_type": "stream",
     "text": [
      "D:\\Anac\\envs\\tf1\\lib\\site-packages\\transformers\\models\\t5\\tokenization_t5.py:163: FutureWarning: This tokenizer was incorrectly instantiated with a model max length of 512 which will be corrected in Transformers v5.\n",
      "For now, this behavior is kept to avoid breaking backwards compatibility when padding/encoding with `truncation is True`.\n",
      "- Be aware that you SHOULD NOT rely on t5-base automatically truncating your input to 512 when padding/encoding.\n",
      "- If you want to encode/pad to sequences longer than 512 you can either instantiate this tokenizer with `model_max_length` or pass `max_length` when encoding/padding.\n",
      "- To avoid this warning, please instantiate this tokenizer with `model_max_length` set to your preferred value.\n",
      "  warnings.warn(\n"
     ]
    },
    {
     "data": {
      "application/vnd.jupyter.widget-view+json": {
       "model_id": "55de155331c14d0db65edd3abd27627e",
       "version_major": 2,
       "version_minor": 0
      },
      "text/plain": [
       "Downloading model.safetensors:   0%|          | 0.00/892M [00:00<?, ?B/s]"
      ]
     },
     "metadata": {},
     "output_type": "display_data"
    },
    {
     "name": "stderr",
     "output_type": "stream",
     "text": [
      "All PyTorch model weights were used when initializing TFT5ForConditionalGeneration.\n",
      "\n",
      "All the weights of TFT5ForConditionalGeneration were initialized from the PyTorch model.\n",
      "If your task is similar to the task the model of the checkpoint was trained on, you can already use TFT5ForConditionalGeneration for predictions without further training.\n"
     ]
    },
    {
     "name": "stdout",
     "output_type": "stream",
     "text": [
      "Article Summary:\n",
      "shares of the non-bank lender rose as high as 8% to post their biggest single-day gain in nearly one year. the stock surged to near two-year high on the NSE on thursday to close at 7,868 apiece, up 7.3% from the previous close. CLSA raised EPS estimates by 5-6% and upgraded the stock to buy. the global brokerage expects the stock to rise another 15% from the current levels.\n",
      "\n"
     ]
    }
   ],
   "source": [
    "qa_and_summarization_model = ArticleAdvizer()\n",
    "summary = qa_and_summarization_model.summarize_article(article)\n",
    "print(\"Article Summary:\")\n",
    "print(summary)\n",
    "print()"
   ]
  },
  {
   "cell_type": "code",
   "execution_count": 7,
   "id": "ee4ebc25",
   "metadata": {},
   "outputs": [
    {
     "name": "stderr",
     "output_type": "stream",
     "text": [
      "D:\\Anac\\envs\\tf1\\lib\\site-packages\\transformers\\generation\\tf_utils.py:854: UserWarning: Using `max_length`'s default (20) to control the generation length. This behaviour is deprecated and will be removed from the config in v5 of Transformers -- we recommend using `max_new_tokens` to control the maximum length of the generation.\n",
      "  warnings.warn(\n"
     ]
    },
    {
     "name": "stdout",
     "output_type": "stream",
     "text": [
      "Question: Which are the key Subject(Company/Groups) of the article\n",
      "Answer: Bajaj Finance\n",
      "\n"
     ]
    }
   ],
   "source": [
    "question = \"Which are the key Subject(Company/Groups) of the article\"\n",
    "answer = qa_and_summarization_model.answer_question(article, question)\n",
    "print(\"Question:\", question)\n",
    "print(\"Answer:\", answer)\n",
    "print()"
   ]
  },
  {
   "cell_type": "code",
   "execution_count": 10,
   "id": "65383c0e",
   "metadata": {},
   "outputs": [
    {
     "name": "stdout",
     "output_type": "stream",
     "text": [
      "Question: What is the News theme?\n",
      "Answer: business growth\n",
      "\n"
     ]
    }
   ],
   "source": [
    "question = \"What is the News theme?\"\n",
    "answer = qa_and_summarization_model.answer_question(article, question)\n",
    "print(\"Question:\", question)\n",
    "print(\"Answer:\", answer)\n",
    "print()"
   ]
  },
  {
   "cell_type": "code",
   "execution_count": 13,
   "id": "4d01c6f6",
   "metadata": {},
   "outputs": [
    {
     "name": "stdout",
     "output_type": "stream",
     "text": [
      "Question: Is the news actionable, give a Yes or No?\n",
      "Answer: buy\n",
      "\n"
     ]
    }
   ],
   "source": [
    "question = \"Is the news actionable, give a Yes or No?\"\n",
    "answer = qa_and_summarization_model.answer_question(article, question)\n",
    "print(\"Question:\", question)\n",
    "print(\"Answer:\", answer)\n",
    "print()"
   ]
  },
  {
   "cell_type": "code",
   "execution_count": 14,
   "id": "f45b286f",
   "metadata": {},
   "outputs": [
    {
     "name": "stdout",
     "output_type": "stream",
     "text": [
      "Question: Does the news talk about growth or adverse, choose either of the two?\n",
      "Answer: bullish\n",
      "\n"
     ]
    }
   ],
   "source": [
    "question = \"Does the news talk about growth or adverse, choose either of the two?\"\n",
    "answer = qa_and_summarization_model.answer_question(article, question)\n",
    "print(\"Question:\", question)\n",
    "print(\"Answer:\", answer)\n",
    "print()"
   ]
  },
  {
   "cell_type": "code",
   "execution_count": null,
   "id": "83aef23f",
   "metadata": {},
   "outputs": [],
   "source": []
  }
 ],
 "metadata": {
  "kernelspec": {
   "display_name": "tf1",
   "language": "python",
   "name": "tf1"
  },
  "language_info": {
   "codemirror_mode": {
    "name": "ipython",
    "version": 3
   },
   "file_extension": ".py",
   "mimetype": "text/x-python",
   "name": "python",
   "nbconvert_exporter": "python",
   "pygments_lexer": "ipython3",
   "version": "3.10.6"
  }
 },
 "nbformat": 4,
 "nbformat_minor": 5
}
