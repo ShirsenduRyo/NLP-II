{
 "cells": [
  {
   "cell_type": "markdown",
   "id": "cb61c41b",
   "metadata": {},
   "source": [
    "# 1. Import Libraries"
   ]
  },
  {
   "cell_type": "code",
   "execution_count": 1,
   "id": "4a4ffa2b",
   "metadata": {},
   "outputs": [],
   "source": [
    "from ArticleExtractor import ArticleExtractor\n",
    "from ArticleAdvizer2 import *"
   ]
  },
  {
   "cell_type": "code",
   "execution_count": 2,
   "id": "45871ab2",
   "metadata": {},
   "outputs": [],
   "source": [
    "from Metrics import SummaryMetrics"
   ]
  },
  {
   "cell_type": "code",
   "execution_count": 3,
   "id": "08cd7ef5",
   "metadata": {},
   "outputs": [
    {
     "data": {
      "text/plain": [
       "True"
      ]
     },
     "execution_count": 3,
     "metadata": {},
     "output_type": "execute_result"
    }
   ],
   "source": [
    "torch.cuda.is_available()"
   ]
  },
  {
   "cell_type": "markdown",
   "id": "840de30c",
   "metadata": {},
   "source": [
    "# 2. The Article"
   ]
  },
  {
   "cell_type": "code",
   "execution_count": 4,
   "id": "37977ffc",
   "metadata": {},
   "outputs": [],
   "source": [
    "# Usage example\n",
    "url = \"https://economictimes.indiatimes.com/markets/stocks/news/bajaj-finance-offers-robust-update-for-q1-draws-brokerage-upgrades/articleshow/101499161.cms?from=mdr\"\n",
    "article_extractor = ArticleExtractor(url)\n",
    "article_extractor.download_article()\n",
    "\n"
   ]
  },
  {
   "cell_type": "code",
   "execution_count": 5,
   "id": "a0065ea5",
   "metadata": {},
   "outputs": [],
   "source": [
    "title = article_extractor.extract_title()\n",
    "text = article_extractor.extract_text()\n",
    "authors = article_extractor.extract_authors()\n",
    "publish_date = article_extractor.extract_publish_date()\n",
    "\n"
   ]
  },
  {
   "cell_type": "code",
   "execution_count": 6,
   "id": "36a6b19b",
   "metadata": {},
   "outputs": [
    {
     "name": "stdout",
     "output_type": "stream",
     "text": [
      "Title: Bajaj Finance offers robust update for Q1, draws brokerage upgrades\n",
      "Text: Mumbai: Analysts tracking Bajaj Finance reiterated their bullish outlook after the Pune-based non-bank lender 's first-quarter business growth update took the Street by surprise, prompting brokerage houses to upgrade their recommendations and raise their respective price targets. Shares of Bajaj Finance rose as high as 8% to post their biggest single-day gain in nearly one year. The stock surged to near two-year high on Tuesday to close at ₹7,868 apiece on the NSE, up 7.3% from the previous close, extending its run of gains to six consecutive sessions. CLSA raised EPS estimates by 5-6% and upgraded the stock to buy. The global brokerage expects the stock to rise another 15% from the current levels.\"Bajaj Finance reported very strong pre-quarter numbers for Q1FY24,\" said CLSA in a client note. \"While expected 6-7% QoQ AUM growth, the company delivered 9%. New customer acquisition healthy and volume growth in disbursements a strong 34% YoY.\"Morgan Stanley raised its price target which has the potential to deliver another 18% returns from the current levels.\"AUM growth of 9.2% QoQ, 32% YoY with value & vol growth & strong customer acquisition should dispel loan growth debate,\" Morgan Stanley told clients in a note. \"Bajaj Finance has a strong credit track record; RoA is at a historical high. See this large liquid stock re-rating to 30x F25e P/E.\"Bajaj Finance's new loans booked during Q1 grew by 34% to 9.94 million as compared to 7.42 million in the corresponding quarter of the previous year. Assets under management (AUM) grew 32% YoY - the highest-ever quarterly increase - to ₹2.7 lakh crore.The customer franchise stood at 72.98 million at the end of June 2023 as compared to 60.30 million as of June 2022 after seeing the highest-ever quarterly increase.BofA Securities also raised its price target. It said the first quarter update should also reinforce confidence in its long-term growth guidance of 25-27%. \"The company is on track to beat the upper end of its 11-12 million customer acquisition guidance comfortably,\" the firm said.\n",
      "Authors: []\n",
      "Publish Date: None\n"
     ]
    }
   ],
   "source": [
    "print(\"Title:\", title)\n",
    "print(\"Text:\", text)\n",
    "print(\"Authors:\", authors)\n",
    "print(\"Publish Date:\", publish_date)"
   ]
  },
  {
   "cell_type": "markdown",
   "id": "b225818a",
   "metadata": {},
   "source": [
    "# 3. The Models"
   ]
  },
  {
   "cell_type": "code",
   "execution_count": 7,
   "id": "0fce9883",
   "metadata": {},
   "outputs": [],
   "source": [
    "# bart = BartArticleGenerator()\n",
    "# gpt2 = GPT2ArticleClassifier()"
   ]
  },
  {
   "cell_type": "code",
   "execution_count": 8,
   "id": "b5e9414d",
   "metadata": {},
   "outputs": [],
   "source": [
    "# bart_summary = bart(text)\n",
    "# bart_summary"
   ]
  },
  {
   "cell_type": "code",
   "execution_count": 9,
   "id": "432bf7e8",
   "metadata": {},
   "outputs": [],
   "source": [
    "bart_summary = '''Shares of Bajaj Finance rose as high as 8% to post their biggest single-day gain in nearly one year. The stock surged to near two-year high on Tuesday to close at ₹7,868 apiece on the NSE. Morgan Stanley raised its price target which has the potential to deliver another 18% returns from current levels'''"
   ]
  },
  {
   "cell_type": "code",
   "execution_count": 10,
   "id": "0282d40a",
   "metadata": {},
   "outputs": [],
   "source": [
    "# gpt2_summary = gpt2(text)\n",
    "# gpt2_summary"
   ]
  },
  {
   "cell_type": "code",
   "execution_count": null,
   "id": "2903babc",
   "metadata": {},
   "outputs": [],
   "source": []
  },
  {
   "cell_type": "code",
   "execution_count": 11,
   "id": "1a49dc40",
   "metadata": {},
   "outputs": [],
   "source": [
    "gpt2_summary = '''Mumbai: Analysts tracking Bajaj Finance reiterated their bullish outlook after the Pune-based non-bank lender's first-quarter business growth update took the Street by surprise, prompting brokerage houses to upgrade their recommendations and raise their respective price targets. Shares of Bajaj Finance rose as high as 8% to post their biggest single-day gain in nearly one year. The stock surged to near two-year high on Tuesday to close at ₹7,868 apiece on the NSE, up 7.3% from the previous close, extending its run of gains to six consecutive sessions. CLSA raised EPS estimates by 5-6% and upgraded the stock to buy. The global brokerage expects the stock to rise another 15% from the current levels.\"Bajaj Finance reported very strong pre-quarter numbers for Q1FY24,\" said CLSA in a client note. \"While expected 6-7% QoQ AUM growth, the company delivered 9%. New customer acquisition healthy and volume growth in disbursements a strong 34% YoY.\"Morgan Stanley raised its price target which has the potential to deliver another 18% returns from the current levels.\"AUM growth of 9.2% QoQ, 32% YoY with value & vol growth & strong customer acquisition should dispel loan growth debate,\" Morgan Stanley told clients in a note. \"Bajaj Finance has a strong credit track record; RoA is at a historical high. See this large liquid stock re-rating to 30x F25e P/E.\"Bajaj Finance's new loans booked during Q1 grew by 34% to 9.94 million as compared to 7.42 million in the corresponding quarter of the previous year. Assets under management (AUM) grew 32% YoY - the highest-ever quarterly increase - to ₹2.7 lakh crore.The customer franchise stood at 72.98 million at the end of June 2023 as compared to 60.30 million as of June 2022 after seeing the highest-ever quarterly increase.BofA Securities also raised its price target. It said the first quarter update should also reinforce confidence in its long-term growth guidance of 25-27%. \"The company is on track to beat the upper end of its 11-12 million customer acquisition guidance comfortably,\" the firm said. \"'''"
   ]
  },
  {
   "cell_type": "code",
   "execution_count": 12,
   "id": "b7b3523e",
   "metadata": {},
   "outputs": [
    {
     "name": "stderr",
     "output_type": "stream",
     "text": [
      "Some weights of the model checkpoint at bert-base-uncased were not used when initializing BertForMaskedLM: ['cls.seq_relationship.bias', 'cls.seq_relationship.weight']\n",
      "- This IS expected if you are initializing BertForMaskedLM from the checkpoint of a model trained on another task or with another architecture (e.g. initializing a BertForSequenceClassification model from a BertForPreTraining model).\n",
      "- This IS NOT expected if you are initializing BertForMaskedLM from the checkpoint of a model that you expect to be exactly identical (initializing a BertForSequenceClassification model from a BertForSequenceClassification model).\n"
     ]
    }
   ],
   "source": [
    "metric = SummaryMetrics()"
   ]
  },
  {
   "cell_type": "code",
   "execution_count": 13,
   "id": "9e7b176f",
   "metadata": {},
   "outputs": [
    {
     "name": "stdout",
     "output_type": "stream",
     "text": [
      "0.25950782997762867\n"
     ]
    }
   ],
   "source": [
    "print(metric.rouge_l(text, bart_summary))"
   ]
  },
  {
   "cell_type": "code",
   "execution_count": 14,
   "id": "a02989de",
   "metadata": {},
   "outputs": [
    {
     "name": "stdout",
     "output_type": "stream",
     "text": [
      "0.9974293059125964\n"
     ]
    }
   ],
   "source": [
    "print(metric.rouge_l(text, gpt2_summary))"
   ]
  },
  {
   "cell_type": "code",
   "execution_count": 15,
   "id": "d70739cd",
   "metadata": {},
   "outputs": [
    {
     "name": "stdout",
     "output_type": "stream",
     "text": [
      "0.24\n"
     ]
    }
   ],
   "source": [
    "print(metric.rouge_s(text, bart_summary))"
   ]
  },
  {
   "cell_type": "code",
   "execution_count": 16,
   "id": "1acb3b4d",
   "metadata": {},
   "outputs": [
    {
     "name": "stdout",
     "output_type": "stream",
     "text": [
      "0.9950248756218906\n"
     ]
    }
   ],
   "source": [
    "print(metric.rouge_s(text, gpt2_summary))"
   ]
  },
  {
   "cell_type": "code",
   "execution_count": 18,
   "id": "d28957db",
   "metadata": {},
   "outputs": [
    {
     "name": "stdout",
     "output_type": "stream",
     "text": [
      "0.0031114292472550816\n"
     ]
    }
   ],
   "source": [
    "print(metric.quip_score(text, bart_summary))"
   ]
  },
  {
   "cell_type": "code",
   "execution_count": 19,
   "id": "182da191",
   "metadata": {},
   "outputs": [
    {
     "name": "stdout",
     "output_type": "stream",
     "text": [
      "0.9948386665993774\n"
     ]
    }
   ],
   "source": [
    "print(metric.quip_score(text, gpt2_summary))"
   ]
  },
  {
   "cell_type": "code",
   "execution_count": 20,
   "id": "012dee79",
   "metadata": {},
   "outputs": [],
   "source": [
    "#Checking like a paraphreser\n",
    "# OOPs not Followed"
   ]
  },
  {
   "cell_type": "code",
   "execution_count": null,
   "id": "7a954522",
   "metadata": {},
   "outputs": [],
   "source": []
  }
 ],
 "metadata": {
  "kernelspec": {
   "display_name": "torch",
   "language": "python",
   "name": "pytorch"
  },
  "language_info": {
   "codemirror_mode": {
    "name": "ipython",
    "version": 3
   },
   "file_extension": ".py",
   "mimetype": "text/x-python",
   "name": "python",
   "nbconvert_exporter": "python",
   "pygments_lexer": "ipython3",
   "version": "3.11.3"
  }
 },
 "nbformat": 4,
 "nbformat_minor": 5
}
