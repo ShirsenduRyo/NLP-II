{
  "cells": [
    {
      "cell_type": "markdown",
      "id": "5f5e370e",
      "metadata": {
        "id": "5f5e370e"
      },
      "source": [
        "# 1. Import Libraries"
      ]
    },
    {
      "cell_type": "code",
      "execution_count": 1,
      "id": "61cdf206",
      "metadata": {
        "id": "61cdf206"
      },
      "outputs": [],
      "source": [
        "import tensorflow as tf\n",
        "#from transformers import GPT2LMHeadModel, GPT2Tokenizer"
      ]
    },
    {
      "cell_type": "code",
      "execution_count": 2,
      "id": "355482ac",
      "metadata": {
        "colab": {
          "base_uri": "https://localhost:8080/"
        },
        "id": "355482ac",
        "outputId": "7302a5bb-75ef-402e-bb46-e210808ff3c2"
      },
      "outputs": [
        {
          "output_type": "execute_result",
          "data": {
            "text/plain": [
              "[PhysicalDevice(name='/physical_device:GPU:0', device_type='GPU')]"
            ]
          },
          "metadata": {},
          "execution_count": 2
        }
      ],
      "source": [
        "devices = tf.config.list_physical_devices('GPU')\n",
        "devices"
      ]
    },
    {
      "cell_type": "code",
      "source": [
        "#!pip install transformers"
      ],
      "metadata": {
        "id": "RDzj71HqCyts"
      },
      "id": "RDzj71HqCyts",
      "execution_count": 3,
      "outputs": []
    },
    {
      "cell_type": "code",
      "execution_count": 4,
      "id": "a74aa826",
      "metadata": {
        "id": "a74aa826"
      },
      "outputs": [],
      "source": [
        "import tensorflow as tf\n",
        "from transformers import TFGPT2LMHeadModel, GPT2Tokenizer\n",
        "\n",
        "class ArticleAnalyzer:\n",
        "    def __init__(self, model_name=\"gpt2\"):\n",
        "        self.tokenizer = GPT2Tokenizer.from_pretrained(model_name)\n",
        "        self.model = TFGPT2LMHeadModel.from_pretrained(model_name)\n",
        "\n",
        "    def analyze_article(self, article):\n",
        "        input_text = f\"Is the article actionable? {article}\"\n",
        "        input_ids = self.tokenizer.encode(input_text, return_tensors=\"tf\")\n",
        "\n",
        "        max_length = input_ids.shape[1] + 50  # Adjust the additional tokens as needed\n",
        "\n",
        "        outputs = self.model.generate(input_ids, max_length=max_length, num_return_sequences=1)\n",
        "\n",
        "        generated_text = self.tokenizer.decode(outputs[0], skip_special_tokens=True)\n",
        "        is_actionable = \"Yes\" if \"Yes\" in generated_text else \"No\"\n",
        "\n",
        "        return generated_text\n",
        "\n",
        "\n",
        "    def summarize_article(self, article):\n",
        "        input_text = f\"summarize: {article}\"\n",
        "        input_ids = self.tokenizer.encode(input_text, return_tensors=\"tf\")\n",
        "\n",
        "        max_length = input_ids.shape[1] + 50  # Adjust the additional tokens as needed\n",
        "\n",
        "        outputs = self.model.generate(input_ids, max_length=max_length, num_return_sequences=1)\n",
        "\n",
        "        generated_summary = self.tokenizer.decode(outputs[0], skip_special_tokens=True)\n",
        "        return generated_summary"
      ]
    },
    {
      "cell_type": "code",
      "execution_count": 5,
      "id": "c0d32ae3",
      "metadata": {
        "id": "c0d32ae3"
      },
      "outputs": [],
      "source": [
        "article = '''Mumbai: Analysts tracking Bajaj Finance reiterated their bullish outlook after the Pune-based non-bank lender 's \\\n",
        "first-quarter business growth update took the Street by surprise, prompting brokerage houses to upgrade their recommendations\\\n",
        "and raise their respective price targets. Shares of Bajaj Finance rose as high as 8% to post their biggest single-day gain in \\\n",
        "nearly one year. The stock surged to near two-year high on Tuesday to close at ₹7,868 apiece on the NSE, up 7.3% from the \\\n",
        "previous close, extending its run of gains to six consecutive sessions. CLSA raised EPS estimates by 5-6% and upgraded the \\\n",
        "stock to buy. The global brokerage expects the stock to rise another 15% from the current levels.\"Bajaj Finance reported \\\n",
        "very strong pre-quarter numbers for Q1FY24,\" said CLSA in a client note. \"While expected 6-7% QoQ AUM growth, the company \\\n",
        "delivered 9%. New customer acquisition healthy and volume growth in disbursements a strong 34% YoY.\"Morgan Stanley raised \\\n",
        "its price target which has the potential to deliver another 18% returns from the current levels.\"AUM growth of 9.2% QoQ, \\\n",
        "32% YoY with value & vol growth & strong customer acquisition should dispel loan growth debate,\" Morgan Stanley told clients \\\n",
        "in a note. \"Bajaj Finance has a strong credit track record; RoA is at a historical high. See this large liquid stock re-rating \\\n",
        "to 30x F25e P/E.\"Bajaj Finance's new loans booked during Q1 grew by 34% to 9.94 million as compared to 7.42 million in the \\\n",
        "corresponding quarter of the previous year. Assets under management (AUM) grew 32% YoY - the highest-ever quarterly increase - \\\n",
        "to ₹2.7 lakh crore.The customer franchise stood at 72.98 million at the end of June 2023 as compared to 60.30 million as of \\\n",
        "June 2022 after seeing the highest-ever quarterly increase.BofA Securities also raised its price target. It said the first \\\n",
        "quarter update should also reinforce confidence in its long-term growth guidance of 25-27%. \"The company is on track to beat \\\n",
        "the upper end of its 11-12 million customer acquisition guidance comfortably,\" the firm said.'''"
      ]
    },
    {
      "cell_type": "code",
      "execution_count": 6,
      "id": "83aef23f",
      "metadata": {
        "colab": {
          "base_uri": "https://localhost:8080/"
        },
        "id": "83aef23f",
        "outputId": "3221b5aa-37e5-41e8-abc5-2d8ec3a3a405"
      },
      "outputs": [
        {
          "output_type": "stream",
          "name": "stderr",
          "text": [
            "All PyTorch model weights were used when initializing TFGPT2LMHeadModel.\n",
            "\n",
            "All the weights of TFGPT2LMHeadModel were initialized from the PyTorch model.\n",
            "If your task is similar to the task the model of the checkpoint was trained on, you can already use TFGPT2LMHeadModel for predictions without further training.\n",
            "The attention mask and the pad token id were not set. As a consequence, you may observe unexpected behavior. Please pass your input's `attention_mask` to obtain reliable results.\n",
            "Setting `pad_token_id` to `eos_token_id`:50256 for open-end generation.\n"
          ]
        }
      ],
      "source": [
        "analyzer = ArticleAnalyzer()\n",
        "summary = analyzer.summarize_article(article)\n",
        "#is_actionable = analyzer.analyze_article(article)\n",
        "\n",
        "\n"
      ]
    },
    {
      "cell_type": "code",
      "execution_count": 7,
      "id": "bd5c66cf",
      "metadata": {
        "colab": {
          "base_uri": "https://localhost:8080/"
        },
        "id": "bd5c66cf",
        "outputId": "2878d8f2-25e1-4377-a007-4a76bb06c2e3"
      },
      "outputs": [
        {
          "output_type": "stream",
          "name": "stdout",
          "text": [
            "Article Summary:\n",
            "summarize: Mumbai: Analysts tracking Bajaj Finance reiterated their bullish outlook after the Pune-based non-bank lender's first-quarter business growth update took the Street by surprise, prompting brokerage houses to upgrade their recommendationsand raise their respective price targets. Shares of Bajaj Finance rose as high as 8% to post their biggest single-day gain in nearly one year. The stock surged to near two-year high on Tuesday to close at ₹7,868 apiece on the NSE, up 7.3% from the previous close, extending its run of gains to six consecutive sessions. CLSA raised EPS estimates by 5-6% and upgraded the stock to buy. The global brokerage expects the stock to rise another 15% from the current levels.\"Bajaj Finance reported very strong pre-quarter numbers for Q1FY24,\" said CLSA in a client note. \"While expected 6-7% QoQ AUM growth, the company delivered 9%. New customer acquisition healthy and volume growth in disbursements a strong 34% YoY.\"Morgan Stanley raised its price target which has the potential to deliver another 18% returns from the current levels.\"AUM growth of 9.2% QoQ, 32% YoY with value & vol growth & strong customer acquisition should dispel loan growth debate,\" Morgan Stanley told clients in a note. \"Bajaj Finance has a strong credit track record; RoA is at a historical high. See this large liquid stock re-rating to 30x F25e P/E.\"Bajaj Finance's new loans booked during Q1 grew by 34% to 9.94 million as compared to 7.42 million in the corresponding quarter of the previous year. Assets under management (AUM) grew 32% YoY - the highest-ever quarterly increase - to ₹2.7 lakh crore.The customer franchise stood at 72.98 million at the end of June 2023 as compared to 60.30 million as of June 2022 after seeing the highest-ever quarterly increase.BofA Securities also raised its price target. It said the first quarter update should also reinforce confidence in its long-term growth guidance of 25-27%. \"The company is on track to beat the upper end of its 11-12 million customer acquisition guidance comfortably,\" the firm said. \"The company is also on track to achieve its target of 25-27% growth in the first quarter of the next fiscal year.\"BofA Securities also raised its price target. It said the first quarter update should also reinforce confidence in its long\n"
          ]
        }
      ],
      "source": [
        "#print(\"Is the article actionable?\", is_actionable)\n",
        "print(\"Article Summary:\")\n",
        "print(summary)"
      ]
    },
    {
      "cell_type": "code",
      "execution_count": 8,
      "id": "e0fc099d",
      "metadata": {
        "colab": {
          "base_uri": "https://localhost:8080/"
        },
        "id": "e0fc099d",
        "outputId": "5121eb81-0e56-48b7-8300-f66821013f05"
      },
      "outputs": [
        {
          "output_type": "stream",
          "name": "stderr",
          "text": [
            "The attention mask and the pad token id were not set. As a consequence, you may observe unexpected behavior. Please pass your input's `attention_mask` to obtain reliable results.\n",
            "Setting `pad_token_id` to `eos_token_id`:50256 for open-end generation.\n"
          ]
        }
      ],
      "source": [
        "is_actionable = analyzer.analyze_article(article)"
      ]
    },
    {
      "cell_type": "code",
      "source": [
        "print(\"Is the article actionable?\", is_actionable)"
      ],
      "metadata": {
        "colab": {
          "base_uri": "https://localhost:8080/"
        },
        "id": "-ApsPVy1GYJ5",
        "outputId": "b377032e-8508-44b3-df0e-c771cd601f2c"
      },
      "id": "-ApsPVy1GYJ5",
      "execution_count": 9,
      "outputs": [
        {
          "output_type": "stream",
          "name": "stdout",
          "text": [
            "Is the article actionable? Is the article actionable? Mumbai: Analysts tracking Bajaj Finance reiterated their bullish outlook after the Pune-based non-bank lender's first-quarter business growth update took the Street by surprise, prompting brokerage houses to upgrade their recommendationsand raise their respective price targets. Shares of Bajaj Finance rose as high as 8% to post their biggest single-day gain in nearly one year. The stock surged to near two-year high on Tuesday to close at ₹7,868 apiece on the NSE, up 7.3% from the previous close, extending its run of gains to six consecutive sessions. CLSA raised EPS estimates by 5-6% and upgraded the stock to buy. The global brokerage expects the stock to rise another 15% from the current levels.\"Bajaj Finance reported very strong pre-quarter numbers for Q1FY24,\" said CLSA in a client note. \"While expected 6-7% QoQ AUM growth, the company delivered 9%. New customer acquisition healthy and volume growth in disbursements a strong 34% YoY.\"Morgan Stanley raised its price target which has the potential to deliver another 18% returns from the current levels.\"AUM growth of 9.2% QoQ, 32% YoY with value & vol growth & strong customer acquisition should dispel loan growth debate,\" Morgan Stanley told clients in a note. \"Bajaj Finance has a strong credit track record; RoA is at a historical high. See this large liquid stock re-rating to 30x F25e P/E.\"Bajaj Finance's new loans booked during Q1 grew by 34% to 9.94 million as compared to 7.42 million in the corresponding quarter of the previous year. Assets under management (AUM) grew 32% YoY - the highest-ever quarterly increase - to ₹2.7 lakh crore.The customer franchise stood at 72.98 million at the end of June 2023 as compared to 60.30 million as of June 2022 after seeing the highest-ever quarterly increase.BofA Securities also raised its price target. It said the first quarter update should also reinforce confidence in its long-term growth guidance of 25-27%. \"The company is on track to beat the upper end of its 11-12 million customer acquisition guidance comfortably,\" the firm said. \"The company is also on track to achieve its target of 25-27% growth in the first quarter of the next fiscal.\"BofA Securities also raised its price target. It said the first quarter update should also reinforce confidence in its long-\n"
          ]
        }
      ]
    },
    {
      "cell_type": "code",
      "source": [],
      "metadata": {
        "id": "WO5baLNSGhCi"
      },
      "id": "WO5baLNSGhCi",
      "execution_count": 9,
      "outputs": []
    }
  ],
  "metadata": {
    "kernelspec": {
      "display_name": "tf1",
      "language": "python",
      "name": "tf1"
    },
    "language_info": {
      "codemirror_mode": {
        "name": "ipython",
        "version": 3
      },
      "file_extension": ".py",
      "mimetype": "text/x-python",
      "name": "python",
      "nbconvert_exporter": "python",
      "pygments_lexer": "ipython3",
      "version": "3.10.6"
    },
    "colab": {
      "provenance": [],
      "gpuType": "T4"
    },
    "accelerator": "GPU"
  },
  "nbformat": 4,
  "nbformat_minor": 5
}