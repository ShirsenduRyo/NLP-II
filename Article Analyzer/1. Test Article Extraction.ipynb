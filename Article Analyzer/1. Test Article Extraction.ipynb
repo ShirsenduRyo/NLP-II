{
 "cells": [
  {
   "cell_type": "markdown",
   "id": "cb61c41b",
   "metadata": {},
   "source": [
    "# 1. Import Libraries"
   ]
  },
  {
   "cell_type": "code",
   "execution_count": 2,
   "id": "4a4ffa2b",
   "metadata": {},
   "outputs": [],
   "source": [
    "from ArticleExtractor import ArticleExtractor"
   ]
  },
  {
   "cell_type": "code",
   "execution_count": 11,
   "id": "3e364b03",
   "metadata": {},
   "outputs": [],
   "source": [
    "url = \"https://indianexpress.com/article/business/economy/india-restricts-import-laptop-tablets-and-computers-8874367/\""
   ]
  },
  {
   "cell_type": "code",
   "execution_count": 12,
   "id": "37977ffc",
   "metadata": {},
   "outputs": [],
   "source": [
    "# Usage example\n",
    "#url = \"https://economictimes.indiatimes.com/markets/stocks/news/bajaj-finance-offers-robust-update-for-q1-draws-brokerage-upgrades/articleshow/101499161.cms?from=mdr\"\n",
    "article_extractor = ArticleExtractor(url)\n",
    "article_extractor.download_article()\n",
    "\n"
   ]
  },
  {
   "cell_type": "code",
   "execution_count": 13,
   "id": "a0065ea5",
   "metadata": {},
   "outputs": [],
   "source": [
    "title = article_extractor.extract_title()\n",
    "text = article_extractor.extract_text()\n",
    "authors = article_extractor.extract_authors()\n",
    "publish_date = article_extractor.extract_publish_date()\n",
    "\n"
   ]
  },
  {
   "cell_type": "code",
   "execution_count": 14,
   "id": "36a6b19b",
   "metadata": {
    "scrolled": false
   },
   "outputs": [
    {
     "name": "stdout",
     "output_type": "stream",
     "text": [
      "Title: Laptop imports will require licence; Govt keen to boost local industry\n",
      "Text: The Union government has restricted imports of personal computers, laptops, palmtops, automatic data processing machines, microcomputer/ processors and large/ mainframe computers with immediate effect.\n",
      "\n",
      "The move seems to be aimed at promoting domestic manufacturing, and probably targeted at China since more than 75 per cent of India’s total $ 5.33 billion imports of laptops and personal computers in 2022-23 was from the neighbouring country.\n",
      "\n",
      "In a notification issued Thursday, the Directorate General of Foreign Trade (DGFT) said imports of computers and other items under the seven categories of HSN Code 8471 (HSN is the Harmonised System of Nomenclature, a globally accepted method of naming goods) were restricted. There will, however, be no restrictions on imports under the baggage rules.\n",
      "\n",
      "The move is being seen as a direct boost to the Centre’s recently renewed production-linked incentive (PLI) scheme for IT hardware. A senior government official said the measure is to push companies to manufacture locally in India, as the country looks to strengthen its domestic production prowess in the electronics sector.\n",
      "\n",
      "The scheme was revised in May with an outlay of Rs 17,000 crore, more than doubling the budget for the scheme that was first cleared in 2021. The push is aimed at makers of laptops, servers and personal computers among others – since a majority of the imports in these segments is from China.\n",
      "\n",
      "Current regulations permit companies to import laptops freely. The fresh restrictions could impact companies such as Apple, Samsung and Acer, forcing them to step up manufacturing and assembly in India. The move could also potentially raise prices for consumers, depending on how the licensing norms are implemented.\n",
      "\n",
      "Import of laptops, tablets, all-in-one personal computers, and ‘ultrasmall form factor’ computers and servers falling under HSN 8741 will be ‘restricted’ and their import would be allowed against a valid licence for restricted imports, the notification said. The import of one laptop, tablet, all-in-one personal computer or ultrasmall form factor computer including those purchased from e-commerce portals through post or courier, has been exempted from licensing requirement. It will attract payment of duty as applicable, it said.\n",
      "\n",
      "Advertisement\n",
      "\n",
      "The government has also exempted laptops, tablets, all-in-one personal computers, and ultrasmall form factor computers from import licensing requirements if they are essential part of capital goods.\n",
      "\n",
      "Imports up to 20 items per consignment for R&D, testing, benchmarking, and evaluation repair and re-export, and product development purposes, have also been exempted from import licence. Such imports will, however, be only for use for the stated purposes and not for sale. “Further, after the intended purpose, the products would either be destroyed beyond use or re-exported,” the notification said.\n",
      "\n",
      "It also said that the licence for restricted imports shall not be required for the repair and return of re-import of goods repaired abroad, as per the Foreign Trade Policy.\n",
      "\n",
      "Advertisement\n",
      "\n",
      "Responding to the move, Pankaj Mohindroo, Chairman, India Cellular and Electronics Association (ICEA), said, “This policy announcement seems to be based on the premise of providing secure digital access to the burgeoning number of digital citizens in the country. We are confident that valid licenses will be provided to trusted industry partners which will enable ease of doing business and unrestricted access to trusted brands for digital consumers.”\n",
      "\n",
      "India has seen an increase in imports of electronic goods and laptops/ computers over the last few years. During April-June this year, the import of electronic goods increased to $6.96 billion from $4.73 billion in the year-ago period, with a share of 4-7 per cent in overall imports.\n",
      "\n",
      "Of the seven categories restricted for imports, China has a majority share. During April-May, the latest period for which country-wise data is available, India’s imports from China for these seven categories of restricted imports were valued at $743.56 million, down 5.6 per cent from $787.84 million.\n",
      "\n",
      "The highest share of imports is in the category of personal computers including laptops, palmtops, under which China’s share stood at $558.36 million in April-May this year as against $618.26 million in the year-ago period. China accounts for roughly 70-80 per cent share of imports of personal computers and laptops.\n",
      "\n",
      "On an annual basis, India’s imports of personal computers, laptops from China had dropped 23.1 per cent in 2022-23 to $4.10 billion in 2022-23 from $5.34 billion in 2021-22. However, in the previous two financial years, 2021-22 and 2020-21, there was a sharp surge in imports of personal computers, laptops in 2021-22 and 2020-21 from China, with a year-on-year increase of 51.5 per cent to $5.34 billion in 2021-22 and 44.7 per cent to $3.52 billion in 2020-21.\n",
      "Authors: ['Aanchal Magazine', 'Var Template_Content', 'Sso_Login_Box', 'Xwelcome Backorenter The Email Address Or Mobile Number Associated With Your Account To Sign In. Show Passwordsign Innew To The Indian Express Signupxcreate Your Account It Is Quick', 'Easy.Or Show Passwordnextvalidate Otpregisteralready Have An Account', 'Signin', 'Sso_Social_Box', 'Sign In Withgmailfacebookapple', 'Var Follow_Widget_Data', 'Af_Article_Count']\n",
      "Publish Date: 2023-08-03 12:11:46+05:30\n"
     ]
    }
   ],
   "source": [
    "print(\"Title:\", title)\n",
    "print(\"Text:\", text)\n",
    "print(\"Authors:\", authors)\n",
    "print(\"Publish Date:\", publish_date)"
   ]
  },
  {
   "cell_type": "code",
   "execution_count": null,
   "id": "50f7e184",
   "metadata": {},
   "outputs": [],
   "source": []
  },
  {
   "cell_type": "code",
   "execution_count": null,
   "id": "7d796cc4",
   "metadata": {},
   "outputs": [],
   "source": []
  }
 ],
 "metadata": {
  "kernelspec": {
   "display_name": "tf1",
   "language": "python",
   "name": "tf1"
  },
  "language_info": {
   "codemirror_mode": {
    "name": "ipython",
    "version": 3
   },
   "file_extension": ".py",
   "mimetype": "text/x-python",
   "name": "python",
   "nbconvert_exporter": "python",
   "pygments_lexer": "ipython3",
   "version": "3.10.6"
  }
 },
 "nbformat": 4,
 "nbformat_minor": 5
}
