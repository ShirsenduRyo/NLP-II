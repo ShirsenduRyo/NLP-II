{
 "cells": [
  {
   "cell_type": "markdown",
   "id": "cb61c41b",
   "metadata": {},
   "source": [
    "# 1. Import Libraries"
   ]
  },
  {
   "cell_type": "code",
   "execution_count": 1,
   "id": "4a4ffa2b",
   "metadata": {},
   "outputs": [],
   "source": [
    "from ArticleExtractor import ArticleExtractor"
   ]
  },
  {
   "cell_type": "code",
   "execution_count": 2,
   "id": "37977ffc",
   "metadata": {},
   "outputs": [],
   "source": [
    "# Usage example\n",
    "url = \"https://economictimes.indiatimes.com/markets/stocks/news/bajaj-finance-offers-robust-update-for-q1-draws-brokerage-upgrades/articleshow/101499161.cms?from=mdr\"\n",
    "article_extractor = ArticleExtractor(url)\n",
    "article_extractor.download_article()\n",
    "\n"
   ]
  },
  {
   "cell_type": "code",
   "execution_count": 3,
   "id": "a0065ea5",
   "metadata": {},
   "outputs": [],
   "source": [
    "title = article_extractor.extract_title()\n",
    "text = article_extractor.extract_text()\n",
    "authors = article_extractor.extract_authors()\n",
    "publish_date = article_extractor.extract_publish_date()\n",
    "\n"
   ]
  },
  {
   "cell_type": "code",
   "execution_count": 5,
   "id": "36a6b19b",
   "metadata": {},
   "outputs": [
    {
     "name": "stdout",
     "output_type": "stream",
     "text": [
      "Title: Bajaj Finance offers robust update for Q1, draws brokerage upgrades\n",
      "Text: Mumbai: Analysts tracking Bajaj Finance reiterated their bullish outlook after the Pune-based non-bank lender 's first-quarter business growth update took the Street by surprise, prompting brokerage houses to upgrade their recommendations and raise their respective price targets. Shares of Bajaj Finance rose as high as 8% to post their biggest single-day gain in nearly one year. The stock surged to near two-year high on Tuesday to close at ₹7,868 apiece on the NSE, up 7.3% from the previous close, extending its run of gains to six consecutive sessions. CLSA raised EPS estimates by 5-6% and upgraded the stock to buy. The global brokerage expects the stock to rise another 15% from the current levels.\"Bajaj Finance reported very strong pre-quarter numbers for Q1FY24,\" said CLSA in a client note. \"While expected 6-7% QoQ AUM growth, the company delivered 9%. New customer acquisition healthy and volume growth in disbursements a strong 34% YoY.\"Morgan Stanley raised its price target which has the potential to deliver another 18% returns from the current levels.\"AUM growth of 9.2% QoQ, 32% YoY with value & vol growth & strong customer acquisition should dispel loan growth debate,\" Morgan Stanley told clients in a note. \"Bajaj Finance has a strong credit track record; RoA is at a historical high. See this large liquid stock re-rating to 30x F25e P/E.\"Bajaj Finance's new loans booked during Q1 grew by 34% to 9.94 million as compared to 7.42 million in the corresponding quarter of the previous year. Assets under management (AUM) grew 32% YoY - the highest-ever quarterly increase - to ₹2.7 lakh crore.The customer franchise stood at 72.98 million at the end of June 2023 as compared to 60.30 million as of June 2022 after seeing the highest-ever quarterly increase.BofA Securities also raised its price target. It said the first quarter update should also reinforce confidence in its long-term growth guidance of 25-27%. \"The company is on track to beat the upper end of its 11-12 million customer acquisition guidance comfortably,\" the firm said.\n",
      "Authors: []\n",
      "Publish Date: None\n"
     ]
    }
   ],
   "source": [
    "print(\"Title:\", title)\n",
    "print(\"Text:\", text)\n",
    "print(\"Authors:\", authors)\n",
    "print(\"Publish Date:\", publish_date)"
   ]
  },
  {
   "cell_type": "code",
   "execution_count": null,
   "id": "50f7e184",
   "metadata": {},
   "outputs": [],
   "source": []
  }
 ],
 "metadata": {
  "kernelspec": {
   "display_name": "tf1",
   "language": "python",
   "name": "tf1"
  },
  "language_info": {
   "codemirror_mode": {
    "name": "ipython",
    "version": 3
   },
   "file_extension": ".py",
   "mimetype": "text/x-python",
   "name": "python",
   "nbconvert_exporter": "python",
   "pygments_lexer": "ipython3",
   "version": "3.10.6"
  }
 },
 "nbformat": 4,
 "nbformat_minor": 5
}
