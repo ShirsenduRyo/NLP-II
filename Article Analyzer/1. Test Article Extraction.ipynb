{
 "cells": [
  {
   "cell_type": "markdown",
   "id": "cb61c41b",
   "metadata": {},
   "source": [
    "# 1. Import Libraries"
   ]
  },
  {
   "cell_type": "code",
   "execution_count": 2,
   "id": "4a4ffa2b",
   "metadata": {},
   "outputs": [],
   "source": [
    "from ArticleExtractor import ArticleExtractor"
   ]
  },
  {
   "cell_type": "code",
   "execution_count": 11,
   "id": "3e364b03",
   "metadata": {},
   "outputs": [],
   "source": [
    "url = \"https://www.livemint.com/economy/indias-per-capita-income-to-jump-70-by-2030-reach-4-000-report-11690727398239.html\""
   ]
  },
  {
   "cell_type": "code",
   "execution_count": 12,
   "id": "37977ffc",
   "metadata": {},
   "outputs": [],
   "source": [
    "# Usage example\n",
    "#url = \"https://economictimes.indiatimes.com/markets/stocks/news/bajaj-finance-offers-robust-update-for-q1-draws-brokerage-upgrades/articleshow/101499161.cms?from=mdr\"\n",
    "article_extractor = ArticleExtractor(url)\n",
    "article_extractor.download_article()\n",
    "\n"
   ]
  },
  {
   "cell_type": "code",
   "execution_count": 13,
   "id": "a0065ea5",
   "metadata": {},
   "outputs": [],
   "source": [
    "title = article_extractor.extract_title()\n",
    "text = article_extractor.extract_text()\n",
    "authors = article_extractor.extract_authors()\n",
    "publish_date = article_extractor.extract_publish_date()\n",
    "\n"
   ]
  },
  {
   "cell_type": "code",
   "execution_count": 14,
   "id": "36a6b19b",
   "metadata": {},
   "outputs": [
    {
     "name": "stdout",
     "output_type": "stream",
     "text": [
      "Title: India's per capita income to jump 70% by 2030, reach $4,000: Report\n",
      "Text: The per capita income of India is likely to grow around 70% by 2030 and is expected to reach $4,000 from current levels of $2,450, a research report by Standard Chartered Bank said. The boost in income will help the country to become a middle-income economy with a GDP of $6 trillion and half of it will be coming from household consumption, the research added.\n",
      "\n",
      "Since 2001, the per capita GDP grew from $460 to $1,413 in 2011 to $2,150 in 2021.\n",
      "\n",
      "The primary factor propelling significant economic growth will be external trade, which is anticipated to nearly double to $2.1 trillion by 2030. This substantial increase would be a remarkable jump from the $1.2 trillion recorded in fiscal 2023 when the GDP stood at $3.5 trillion. The report assumes an annual nominal GDP growth of 10% going forward.\n",
      "\n",
      "Furthermore, the report indicates that the second major contributor to this growth will be household consumption, projected to reach $3.4 trillion by fiscal 2030. This figure would be equivalent to the current size of the GDP. In contrast, in fiscal 2023, household consumption was at $2.1 trillion, representing approximately 57% of the GDP at that time.\n",
      "\n",
      "Prime Minister Narendra Modi has promised multiple times that the Indian economy will be placed in the top 3 during his next term in office and will reach $5 trillion. Currently, Japan is in third place after the United States and China.\n",
      "\n",
      "Telangana on top among states\n",
      "\n",
      "Telangana currently takes the top spot in the per capita income rankings with ₹2,75,443 (equivalent to $3,360). Following closely are Karnataka with ₹2,65,623, Tamil Nadu with ₹2,41,131, Kerala with ₹2,30,601, and Andhra Pradesh with ₹2,07,771.\n",
      "\n",
      "However, the StanC report foresees a shift in this ranking by fiscal 2030, with Gujarat projected to lead in per capita income, followed by Maharashtra, Tamil Nadu, Karnataka, Haryana, Telangana, and Andhra Pradesh. Although the report does not mention the names of the other three states, it suggests that they will not be among the top performers.\n",
      "\n",
      "Currently, the combined contribution of Telangana, Delhi, Karnataka, Haryana, Gujarat, and Andhra Pradesh to the national GDP stands at 20%. By fiscal 2030, these states are expected to achieve a per capita GDP of $6,000.\n",
      "\n",
      "The large states like Uttar Pradesh and Bihar will have per capita income of less than $2,000 by fiscal 2023 which is still two times from their current levels.\n",
      "\n",
      "The main driving force behind the growth of the economy will remain the increasing proportion of the working-age population. In 2020, the share of working-age individuals in the country accounted for 64.2% of the total population. This figure is projected to rise slightly to 64.8% in the coming years.\n",
      "\n",
      "However, there may be a marginal decline to 63.6% by the year 2040, and further down to 61.1% by 2050. Despite this gradual decrease, the working-age population will still play a crucial role in shaping the nation's economic development.\n",
      "\n",
      "(With inputs from PTI)\n",
      "Authors: []\n",
      "Publish Date: 2023-07-30 20:41:58+05:30\n"
     ]
    }
   ],
   "source": [
    "print(\"Title:\", title)\n",
    "print(\"Text:\", text)\n",
    "print(\"Authors:\", authors)\n",
    "print(\"Publish Date:\", publish_date)"
   ]
  },
  {
   "cell_type": "code",
   "execution_count": null,
   "id": "50f7e184",
   "metadata": {},
   "outputs": [],
   "source": []
  },
  {
   "cell_type": "code",
   "execution_count": null,
   "id": "7d796cc4",
   "metadata": {},
   "outputs": [],
   "source": []
  }
 ],
 "metadata": {
  "kernelspec": {
   "display_name": "tf1",
   "language": "python",
   "name": "tf1"
  },
  "language_info": {
   "codemirror_mode": {
    "name": "ipython",
    "version": 3
   },
   "file_extension": ".py",
   "mimetype": "text/x-python",
   "name": "python",
   "nbconvert_exporter": "python",
   "pygments_lexer": "ipython3",
   "version": "3.10.6"
  }
 },
 "nbformat": 4,
 "nbformat_minor": 5
}
